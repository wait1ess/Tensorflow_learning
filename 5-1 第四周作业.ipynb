{
 "cells": [
  {
   "cell_type": "code",
   "execution_count": 2,
   "metadata": {},
   "outputs": [
    {
     "name": "stdout",
     "output_type": "stream",
     "text": [
      "WARNING:tensorflow:From <ipython-input-2-0024c4a187cd>:4: read_data_sets (from tensorflow.contrib.learn.python.learn.datasets.mnist) is deprecated and will be removed in a future version.\n",
      "Instructions for updating:\n",
      "Please use alternatives such as official/mnist/dataset.py from tensorflow/models.\n",
      "WARNING:tensorflow:From D:\\Anaconda\\lib\\site-packages\\tensorflow\\contrib\\learn\\python\\learn\\datasets\\mnist.py:260: maybe_download (from tensorflow.contrib.learn.python.learn.datasets.base) is deprecated and will be removed in a future version.\n",
      "Instructions for updating:\n",
      "Please write your own downloading logic.\n",
      "WARNING:tensorflow:From D:\\Anaconda\\lib\\site-packages\\tensorflow\\contrib\\learn\\python\\learn\\datasets\\mnist.py:262: extract_images (from tensorflow.contrib.learn.python.learn.datasets.mnist) is deprecated and will be removed in a future version.\n",
      "Instructions for updating:\n",
      "Please use tf.data to implement this functionality.\n",
      "Extracting D:/kaggle-10-most-popular-dataset/MNIST_data/train-images-idx3-ubyte.gz\n",
      "WARNING:tensorflow:From D:\\Anaconda\\lib\\site-packages\\tensorflow\\contrib\\learn\\python\\learn\\datasets\\mnist.py:267: extract_labels (from tensorflow.contrib.learn.python.learn.datasets.mnist) is deprecated and will be removed in a future version.\n",
      "Instructions for updating:\n",
      "Please use tf.data to implement this functionality.\n",
      "Extracting D:/kaggle-10-most-popular-dataset/MNIST_data/train-labels-idx1-ubyte.gz\n",
      "WARNING:tensorflow:From D:\\Anaconda\\lib\\site-packages\\tensorflow\\contrib\\learn\\python\\learn\\datasets\\mnist.py:110: dense_to_one_hot (from tensorflow.contrib.learn.python.learn.datasets.mnist) is deprecated and will be removed in a future version.\n",
      "Instructions for updating:\n",
      "Please use tf.one_hot on tensors.\n",
      "Extracting D:/kaggle-10-most-popular-dataset/MNIST_data/t10k-images-idx3-ubyte.gz\n",
      "Extracting D:/kaggle-10-most-popular-dataset/MNIST_data/t10k-labels-idx1-ubyte.gz\n",
      "WARNING:tensorflow:From D:\\Anaconda\\lib\\site-packages\\tensorflow\\contrib\\learn\\python\\learn\\datasets\\mnist.py:290: DataSet.__init__ (from tensorflow.contrib.learn.python.learn.datasets.mnist) is deprecated and will be removed in a future version.\n",
      "Instructions for updating:\n",
      "Please use alternatives such as official/mnist/dataset.py from tensorflow/models.\n"
     ]
    }
   ],
   "source": [
    "import tensorflow as tf\n",
    "from tensorflow.examples.tutorials.mnist import input_data\n",
    "# 载入数据\n",
    "mnist = input_data.read_data_sets('D:/kaggle-10-most-popular-dataset/MNIST_data/', one_hot=True)"
   ]
  },
  {
   "cell_type": "code",
   "execution_count": 3,
   "metadata": {},
   "outputs": [
    {
     "name": "stdout",
     "output_type": "stream",
     "text": [
      "Iter 0 Testing Accuracy: 0.9431,  lr: 1.0\n",
      "Iter 1 Testing Accuracy: 0.9535,  lr: 0.98\n",
      "Iter 2 Testing Accuracy: 0.9606,  lr: 0.9604\n",
      "Iter 3 Testing Accuracy: 0.967,  lr: 0.941192\n",
      "Iter 4 Testing Accuracy: 0.9675,  lr: 0.92236817\n",
      "Iter 5 Testing Accuracy: 0.9721,  lr: 0.90392077\n",
      "Iter 6 Testing Accuracy: 0.973,  lr: 0.8858424\n",
      "Iter 7 Testing Accuracy: 0.973,  lr: 0.86812556\n",
      "Iter 8 Testing Accuracy: 0.977,  lr: 0.850763\n",
      "Iter 9 Testing Accuracy: 0.9769,  lr: 0.83374774\n"
     ]
    }
   ],
   "source": [
    "# 批次的大小\n",
    "batch_size = 128\n",
    "n_batch = mnist.train.num_examples // batch_size\n",
    "\n",
    "x = tf.placeholder(tf.float32, [None,784])\n",
    "y = tf.placeholder(tf.float32, [None, 10])\n",
    "keep_prob = tf.placeholder(tf.float32)                                         # dropout率\n",
    "lr = tf.Variable(1,dtype = tf.float32)                                         # 学习率  \n",
    "\n",
    "                                                                               # 创建神经网络\n",
    "W1 = tf.Variable(tf.truncated_normal([784,2000],stddev=0.1))\n",
    "b1 = tf.Variable(tf.zeros([1, 2000]))\n",
    "                                                                               # 激活层\n",
    "layer1 = tf.nn.relu(tf.matmul(x,W1) + b1)\n",
    "                                                                               # drop层\n",
    "layer1 = tf.nn.dropout(layer1,keep_prob=keep_prob)\n",
    "\n",
    "                                                                               # 第二层\n",
    "W2 = tf.Variable(tf.truncated_normal([2000,500],stddev=0.1))\n",
    "b2 = tf.Variable(tf.zeros([1, 500]))\n",
    "layer2 = tf.nn.relu(tf.matmul(layer1,W2) + b2)\n",
    "layer2 = tf.nn.dropout(layer2,keep_prob=keep_prob)\n",
    "\n",
    "                                                                              # 输出层\n",
    "W3 = tf.Variable(tf.truncated_normal([500,10],stddev=0.1))\n",
    "b3 = tf.Variable(tf.zeros([1,10]))\n",
    "prediction = tf.nn.softmax(tf.matmul(layer2,W3) + b3)                         # 预测值为one-hot 编码\n",
    "#prediction = tf.matmul(layer2,W3) + b3\n",
    "\n",
    "\n",
    "loss = tf.reduce_mean(tf.nn.softmax_cross_entropy_with_logits_v2(labels=y, logits=prediction))  # 交叉熵\n",
    "\n",
    " # 梯度下降法\n",
    "# train_step = tf.train.GradientDescentOptimizer(0.2).minimize(loss)\n",
    "train_step = tf.train.AdadeltaOptimizer(lr).minimize(loss)                                   # Adadelta 优化           \n",
    "# train_step = tf.train.AdamOptimizer().minimize(loss)  \n",
    "# train_step = tf.train.RMSPropOptimizer(learning_rate=0.001).minimize(loss) \n",
    "# train_step = tf.train.AdagradOptimizer(learning_rate=1).minimize(loss) \n",
    "\n",
    "\n",
    "                                                                                            # 初始化变量\n",
    "init = tf.global_variables_initializer()\n",
    "\n",
    "prediction_2 = tf.nn.softmax(prediction)\n",
    "                                                                                           # 得到一个布尔型列表，存放结果是否正确\n",
    "    \n",
    "correct_prediction = tf.equal(tf.argmax(y,1), tf.argmax(prediction_2,1))                   # argmax 返回一维张量中最大值索引  （相当于应用于one-hot编码的判别是否正确的函数）\n",
    "\n",
    "                                                                                           # 求准确率\n",
    "accuracy = tf.reduce_mean(tf.cast(correct_prediction,tf.float32))                          # tf.cast把布尔值转换为浮点型，然后求平均数\n",
    "\n",
    "with tf.Session() as sess:\n",
    "    sess.run(init)\n",
    "    for epoch in range(10):                                                                 # 1个epoch等于使用训练集中的全部样本训练一次； \n",
    "        sess.run(tf.assign(lr, 1*(0.98**epoch)))                                            # lr为 learning rate 初始值为0.001 迭代一次更新一次学习率  ,学习率会逐渐降低\n",
    "        for batch in range(n_batch):                                                        # batch_size 批大小。在深度学习中，一般采用SGD训练，即每次训练在训练集中取batchsize个样本训练；\n",
    "                                                                                            # 获得批次数据\n",
    "            batch_xs, batch_ys = mnist.train.next_batch(batch_size)\n",
    "            sess.run(train_step, feed_dict={x:batch_xs, y:batch_ys, keep_prob:0.8})\n",
    "        learning_rate = sess.run(lr)\n",
    "        acc = sess.run(accuracy, feed_dict={x:mnist.test.images,y:mnist.test.labels,keep_prob:1.0} )\n",
    "        print(\"Iter \" + str(epoch) + \" Testing Accuracy: \" + str(acc)+ \",  lr: \"+ str(learning_rate))"
   ]
  },
  {
   "cell_type": "code",
   "execution_count": null,
   "metadata": {
    "collapsed": true
   },
   "outputs": [],
   "source": []
  }
 ],
 "metadata": {
  "kernelspec": {
   "display_name": "Python 3",
   "language": "python",
   "name": "python3"
  },
  "language_info": {
   "codemirror_mode": {
    "name": "ipython",
    "version": 3
   },
   "file_extension": ".py",
   "mimetype": "text/x-python",
   "name": "python",
   "nbconvert_exporter": "python",
   "pygments_lexer": "ipython3",
   "version": "3.6.7"
  }
 },
 "nbformat": 4,
 "nbformat_minor": 2
}
