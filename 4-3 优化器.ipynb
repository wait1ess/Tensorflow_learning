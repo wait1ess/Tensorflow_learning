{
 "cells": [
  {
   "cell_type": "code",
   "execution_count": 2,
   "metadata": {},
   "outputs": [
    {
     "name": "stdout",
     "output_type": "stream",
     "text": [
      "Extracting D:/kaggle-10-most-popular-dataset/MNIST_data/train-images-idx3-ubyte.gz\n",
      "Extracting D:/kaggle-10-most-popular-dataset/MNIST_data/train-labels-idx1-ubyte.gz\n",
      "Extracting D:/kaggle-10-most-popular-dataset/MNIST_data/t10k-images-idx3-ubyte.gz\n",
      "Extracting D:/kaggle-10-most-popular-dataset/MNIST_data/t10k-labels-idx1-ubyte.gz\n"
     ]
    }
   ],
   "source": [
    "import tensorflow as tf\n",
    "from tensorflow.examples.tutorials.mnist import input_data\n",
    "# 载入数据\n",
    "mnist = input_data.read_data_sets('D:/kaggle-10-most-popular-dataset/MNIST_data/', one_hot=True)"
   ]
  },
  {
   "cell_type": "code",
   "execution_count": 4,
   "metadata": {},
   "outputs": [
    {
     "name": "stdout",
     "output_type": "stream",
     "text": [
      "Iter 0 Testing Accuracy: 0.902\n",
      "Iter 1 Testing Accuracy: 0.8887\n",
      "Iter 2 Testing Accuracy: 0.9118\n",
      "Iter 3 Testing Accuracy: 0.9005\n",
      "Iter 4 Testing Accuracy: 0.8974\n",
      "Iter 5 Testing Accuracy: 0.8916\n",
      "Iter 6 Testing Accuracy: 0.8964\n",
      "Iter 7 Testing Accuracy: 0.8998\n",
      "Iter 8 Testing Accuracy: 0.908\n",
      "Iter 9 Testing Accuracy: 0.9082\n",
      "Iter 10 Testing Accuracy: 0.9025\n",
      "Iter 11 Testing Accuracy: 0.9015\n",
      "Iter 12 Testing Accuracy: 0.9067\n",
      "Iter 13 Testing Accuracy: 0.8932\n",
      "Iter 14 Testing Accuracy: 0.9074\n",
      "Iter 15 Testing Accuracy: 0.9023\n",
      "Iter 16 Testing Accuracy: 0.905\n",
      "Iter 17 Testing Accuracy: 0.8959\n",
      "Iter 18 Testing Accuracy: 0.9082\n",
      "Iter 19 Testing Accuracy: 0.9014\n",
      "Iter 20 Testing Accuracy: 0.9056\n",
      "Iter 21 Testing Accuracy: 0.902\n",
      "Iter 22 Testing Accuracy: 0.9022\n",
      "Iter 23 Testing Accuracy: 0.893\n",
      "Iter 24 Testing Accuracy: 0.9074\n",
      "Iter 25 Testing Accuracy: 0.8893\n",
      "Iter 26 Testing Accuracy: 0.9083\n",
      "Iter 27 Testing Accuracy: 0.909\n",
      "Iter 28 Testing Accuracy: 0.902\n",
      "Iter 29 Testing Accuracy: 0.901\n",
      "Iter 30 Testing Accuracy: 0.8923\n",
      "Iter 31 Testing Accuracy: 0.8907\n",
      "Iter 32 Testing Accuracy: 0.8981\n",
      "Iter 33 Testing Accuracy: 0.9066\n",
      "Iter 34 Testing Accuracy: 0.901\n",
      "Iter 35 Testing Accuracy: 0.9108\n",
      "Iter 36 Testing Accuracy: 0.9079\n",
      "Iter 37 Testing Accuracy: 0.9006\n",
      "Iter 38 Testing Accuracy: 0.9031\n",
      "Iter 39 Testing Accuracy: 0.8909\n"
     ]
    }
   ],
   "source": [
    "                                                                             # 批次的大小\n",
    "batch_size = 128\n",
    "n_batch = mnist.train.num_examples // batch_size\n",
    "\n",
    "x = tf.placeholder(tf.float32, [None,784])\n",
    "y = tf.placeholder(tf.float32, [None, 10])\n",
    "\n",
    "                                                                             # 创建一个简单的神经网络\n",
    "W = tf.Variable(tf.zeros([784,10]))\n",
    "b = tf.Variable(tf.zeros([1, 10]))\n",
    "prediction = tf.matmul(x,W) + b\n",
    "\n",
    "                                                                             # 代价函数\n",
    "# loss = tf.reduce_mean(tf.square(y-prediction))\n",
    "loss = tf.reduce_mean(tf.nn.softmax_cross_entropy_with_logits_v2(labels=y, logits=prediction))\n",
    "\n",
    "                                                                             # 选取优化方法  \n",
    "# train_step = tf.train.GradientDescentOptimizer(0.2).minimize(loss)         # 梯度下降法\n",
    "train_step = tf.train.AdamOptimizer(0.04).minimize(loss)                         # Adam\n",
    "\n",
    "                                                                             # 初始化变量\n",
    "init = tf.global_variables_initializer()\n",
    "\n",
    "prediction_2 = tf.nn.softmax(prediction)\n",
    "# 得到一个布尔型列表，存放结果是否正确\n",
    "correct_prediction = tf.equal(tf.argmax(y,1), tf.argmax(prediction_2,1)) #argmax 返回一维张量中最大值索引\n",
    "\n",
    "# 求准确率\n",
    "accuracy = tf.reduce_mean(tf.cast(correct_prediction,tf.float32)) # 把布尔值转换为浮点型求平均数\n",
    "\n",
    "with tf.Session() as sess:\n",
    "    sess.run(init)\n",
    "    for epoch in range(40):\n",
    "        for batch in range(n_batch):\n",
    "            # 获得批次数据\n",
    "            batch_xs, batch_ys = mnist.train.next_batch(batch_size)\n",
    "            sess.run(train_step, feed_dict={x:batch_xs, y:batch_ys})\n",
    "        acc = sess.run(accuracy, feed_dict={x:mnist.test.images,y:mnist.test.labels})\n",
    "        print(\"Iter \" + str(epoch) + \" Testing Accuracy: \" + str(acc))"
   ]
  },
  {
   "cell_type": "markdown",
   "metadata": {},
   "source": [
    "## 优化"
   ]
  },
  {
   "cell_type": "code",
   "execution_count": 6,
   "metadata": {},
   "outputs": [
    {
     "name": "stdout",
     "output_type": "stream",
     "text": [
      "Iter 0 Testing Accuracy: 0.9502\n",
      "Iter 1 Testing Accuracy: 0.9607\n",
      "Iter 2 Testing Accuracy: 0.9652\n",
      "Iter 3 Testing Accuracy: 0.9721\n",
      "Iter 4 Testing Accuracy: 0.9731\n",
      "Iter 5 Testing Accuracy: 0.9763\n",
      "Iter 6 Testing Accuracy: 0.9778\n",
      "Iter 7 Testing Accuracy: 0.9781\n",
      "Iter 8 Testing Accuracy: 0.9778\n",
      "Iter 9 Testing Accuracy: 0.9786\n",
      "Iter 10 Testing Accuracy: 0.979\n",
      "Iter 11 Testing Accuracy: 0.9811\n",
      "Iter 12 Testing Accuracy: 0.9816\n",
      "Iter 13 Testing Accuracy: 0.9799\n",
      "Iter 14 Testing Accuracy: 0.9811\n",
      "Iter 15 Testing Accuracy: 0.9817\n",
      "Iter 16 Testing Accuracy: 0.9805\n",
      "Iter 17 Testing Accuracy: 0.9804\n",
      "Iter 18 Testing Accuracy: 0.9811\n",
      "Iter 19 Testing Accuracy: 0.9801\n",
      "Iter 20 Testing Accuracy: 0.9808\n",
      "Iter 21 Testing Accuracy: 0.9807\n",
      "Iter 22 Testing Accuracy: 0.9809\n",
      "Iter 23 Testing Accuracy: 0.9817\n",
      "Iter 24 Testing Accuracy: 0.981\n",
      "Iter 25 Testing Accuracy: 0.9815\n",
      "Iter 26 Testing Accuracy: 0.9825\n",
      "Iter 27 Testing Accuracy: 0.9827\n",
      "Iter 28 Testing Accuracy: 0.983\n",
      "Iter 29 Testing Accuracy: 0.9829\n"
     ]
    }
   ],
   "source": [
    "# 批次的大小\n",
    "batch_size = 128\n",
    "n_batch = mnist.train.num_examples // batch_size\n",
    "\n",
    "x = tf.placeholder(tf.float32, [None,784])\n",
    "y = tf.placeholder(tf.float32, [None, 10])\n",
    "keep_prob = tf.placeholder(tf.float32)\n",
    "\n",
    "# 创建神经网络\n",
    "W1 = tf.Variable(tf.truncated_normal([784,2000],stddev=0.1))\n",
    "b1 = tf.Variable(tf.zeros([1, 2000]))\n",
    "# 激活层\n",
    "layer1 = tf.nn.tanh(tf.matmul(x,W1) + b1)\n",
    "# drop层\n",
    "layer1 = tf.nn.dropout(layer1,keep_prob=keep_prob)\n",
    "\n",
    "# 第二层\n",
    "W2 = tf.Variable(tf.truncated_normal([2000,500],stddev=0.1))\n",
    "b2 = tf.Variable(tf.zeros([1, 500]))\n",
    "layer2 = tf.nn.tanh(tf.matmul(layer1,W2) + b2)\n",
    "layer2 = tf.nn.dropout(layer2,keep_prob=keep_prob)\n",
    "\n",
    "# 第三层\n",
    "W3 = tf.Variable(tf.truncated_normal([500,10],stddev=0.1))\n",
    "b3 = tf.Variable(tf.zeros([1,10]))\n",
    "prediction = tf.matmul(layer2,W3) + b3\n",
    "\n",
    "loss = tf.reduce_mean(tf.nn.softmax_cross_entropy_with_logits(labels=y, logits=prediction))\n",
    "\n",
    "# 梯度下降法\n",
    "train_step = tf.train.GradientDescentOptimizer(0.2).minimize(loss)#得到98.3的正确率\n",
    "# train_step = tf.train.AdadeltaOptimizer(0.1).minimize(loss)  #97.34的准确率\n",
    "# train_step = tf.train.AdamOptimizer().minimize(loss)  # 97.8\n",
    "# train_step = tf.train.RMSPropOptimizer(learning_rate=0.001).minimize(loss) #98.06\n",
    "# train_step = tf.train.AdagradOptimizer(learning_rate=0.1).minimize(loss) # 98.29\n",
    "\n",
    "\n",
    "# 初始化变量\n",
    "init = tf.global_variables_initializer()\n",
    "\n",
    "prediction_2 = tf.nn.softmax(prediction)\n",
    "# 得到一个布尔型列表，存放结果是否正确\n",
    "correct_prediction = tf.equal(tf.argmax(y,1), tf.argmax(prediction_2,1)) #argmax 返回一维张量中最大值索引\n",
    "\n",
    "# 求准确率\n",
    "accuracy = tf.reduce_mean(tf.cast(correct_prediction,tf.float32)) # 把布尔值转换为浮点型求平均数\n",
    "\n",
    "with tf.Session() as sess:\n",
    "    sess.run(init)\n",
    "    for epoch in range(30):\n",
    "        for batch in range(n_batch):\n",
    "            # 获得批次数据\n",
    "            batch_xs, batch_ys = mnist.train.next_batch(batch_size)\n",
    "            sess.run(train_step, feed_dict={x:batch_xs, y:batch_ys, keep_prob:0.8})\n",
    "        acc = sess.run(accuracy, feed_dict={x:mnist.test.images,y:mnist.test.labels,keep_prob:1.0} )\n",
    "        print(\"Iter \" + str(epoch) + \" Testing Accuracy: \" + str(acc))"
   ]
  },
  {
   "cell_type": "code",
   "execution_count": null,
   "metadata": {
    "collapsed": true
   },
   "outputs": [],
   "source": []
  }
 ],
 "metadata": {
  "kernelspec": {
   "display_name": "Python 3",
   "language": "python",
   "name": "python3"
  },
  "language_info": {
   "codemirror_mode": {
    "name": "ipython",
    "version": 3
   },
   "file_extension": ".py",
   "mimetype": "text/x-python",
   "name": "python",
   "nbconvert_exporter": "python",
   "pygments_lexer": "ipython3",
   "version": "3.6.7"
  }
 },
 "nbformat": 4,
 "nbformat_minor": 2
}
