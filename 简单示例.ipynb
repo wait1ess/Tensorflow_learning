{
 "cells": [
  {
   "cell_type": "code",
   "execution_count": 1,
   "metadata": {
    "collapsed": true
   },
   "outputs": [],
   "source": [
    "import tensorflow as tf\n",
    "import numpy as np"
   ]
  },
  {
   "cell_type": "code",
   "execution_count": 2,
   "metadata": {},
   "outputs": [
    {
     "name": "stdout",
     "output_type": "stream",
     "text": [
      "1 [0.054146428, 0.10024983]\n",
      "21 [0.10371371, 0.19798572]\n",
      "41 [0.10216416, 0.19882624]\n",
      "61 [0.10126114, 0.199316]\n",
      "81 [0.10073493, 0.1996014]\n",
      "101 [0.10042827, 0.19976772]\n",
      "121 [0.100249566, 0.19986464]\n",
      "141 [0.10014543, 0.19992113]\n",
      "161 [0.10008475, 0.19995403]\n",
      "181 [0.10004939, 0.19997321]\n",
      "201 [0.10002878, 0.19998439]\n"
     ]
    }
   ],
   "source": [
    "# 生成随机点\n",
    "x_data = np.random.rand(100)\n",
    "y_data = x_data*0.1 + 0.2\n",
    "\n",
    "\n",
    "b = tf.Variable(0.)                                        # 构建线性模型\n",
    "k = tf.Variable(0.)\n",
    "y = k*x_data + b                  \n",
    "\n",
    "\n",
    "loss = tf.reduce_mean(tf.square(y_data-y))                 # 定义损失函数\n",
    "\n",
    "optimizer = tf.train.GradientDescentOptimizer(0.2)         # 定义一个梯度下降法进行训练的优化器,学习率是0.2\n",
    "\n",
    "train = optimizer.minimize(loss)                           # 最小化代价函数\n",
    "\n",
    "\n",
    "init = tf.global_variables_initializer()                  # 变量初始化\n",
    " \n",
    "with tf.Session() as sess:\n",
    "    sess.run(init)\n",
    "    for step in range(201):                                #迭代\n",
    "        sess.run(train)\n",
    "        if step%20 == 0:\n",
    "            print(step+1, sess.run([k,b]))\n",
    "        \n"
   ]
  },
  {
   "cell_type": "code",
   "execution_count": null,
   "metadata": {
    "collapsed": true
   },
   "outputs": [],
   "source": []
  }
 ],
 "metadata": {
  "kernelspec": {
   "display_name": "Python 3",
   "language": "python",
   "name": "python3"
  },
  "language_info": {
   "codemirror_mode": {
    "name": "ipython",
    "version": 3
   },
   "file_extension": ".py",
   "mimetype": "text/x-python",
   "name": "python",
   "nbconvert_exporter": "python",
   "pygments_lexer": "ipython3",
   "version": "3.6.7"
  }
 },
 "nbformat": 4,
 "nbformat_minor": 2
}
